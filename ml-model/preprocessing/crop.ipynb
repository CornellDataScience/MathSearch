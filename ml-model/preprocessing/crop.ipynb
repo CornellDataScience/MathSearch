{
 "cells": [
  {
   "cell_type": "code",
   "execution_count": 22,
   "metadata": {},
   "outputs": [
    {
     "name": "stderr",
     "output_type": "stream",
     "text": [
      "  1%|          | 561/103536 [01:54<5:50:30,  4.90it/s]\n"
     ]
    },
    {
     "ename": "KeyboardInterrupt",
     "evalue": "",
     "output_type": "error",
     "traceback": [
      "\u001b[0;31m---------------------------------------------------------------------------\u001b[0m",
      "\u001b[0;31mKeyboardInterrupt\u001b[0m                         Traceback (most recent call last)",
      "\u001b[0;32m/var/folders/gk/g_mj828s7ksd228x4c8ynm380000gn/T/ipykernel_16026/2194870471.py\u001b[0m in \u001b[0;36m<module>\u001b[0;34m\u001b[0m\n\u001b[1;32m     22\u001b[0m                 \u001b[0;32mfor\u001b[0m \u001b[0mx\u001b[0m \u001b[0;32min\u001b[0m \u001b[0mrange\u001b[0m\u001b[0;34m(\u001b[0m\u001b[0mwidth\u001b[0m\u001b[0;34m)\u001b[0m\u001b[0;34m:\u001b[0m\u001b[0;34m\u001b[0m\u001b[0;34m\u001b[0m\u001b[0m\n\u001b[1;32m     23\u001b[0m                         \u001b[0;32mfor\u001b[0m \u001b[0my\u001b[0m \u001b[0;32min\u001b[0m \u001b[0mrange\u001b[0m\u001b[0;34m(\u001b[0m\u001b[0mheight\u001b[0m\u001b[0;34m)\u001b[0m\u001b[0;34m:\u001b[0m\u001b[0;34m\u001b[0m\u001b[0;34m\u001b[0m\u001b[0m\n\u001b[0;32m---> 24\u001b[0;31m                                 \u001b[0;32mif\u001b[0m \u001b[0mpixdata\u001b[0m\u001b[0;34m[\u001b[0m\u001b[0mx\u001b[0m\u001b[0;34m,\u001b[0m \u001b[0my\u001b[0m\u001b[0;34m]\u001b[0m \u001b[0;34m==\u001b[0m \u001b[0;34m(\u001b[0m\u001b[0;36m0\u001b[0m\u001b[0;34m,\u001b[0m \u001b[0;36m0\u001b[0m\u001b[0;34m,\u001b[0m \u001b[0;36m0\u001b[0m\u001b[0;34m,\u001b[0m \u001b[0;36m255\u001b[0m\u001b[0;34m)\u001b[0m\u001b[0;34m:\u001b[0m\u001b[0;34m\u001b[0m\u001b[0;34m\u001b[0m\u001b[0m\n\u001b[0m\u001b[1;32m     25\u001b[0m                                         \u001b[0mright\u001b[0m \u001b[0;34m=\u001b[0m \u001b[0mx\u001b[0m\u001b[0;34m\u001b[0m\u001b[0;34m\u001b[0m\u001b[0m\n\u001b[1;32m     26\u001b[0m                                         \u001b[0;32mbreak\u001b[0m\u001b[0;34m\u001b[0m\u001b[0;34m\u001b[0m\u001b[0m\n",
      "\u001b[0;31mKeyboardInterrupt\u001b[0m: "
     ]
    }
   ],
   "source": [
    "from PIL import Image\n",
    "import os\n",
    "from tqdm import tqdm\n",
    "from IPython.display import display\n",
    "\n",
    "\n",
    "dir = \"im2latex/gold_formula_images/\"\n",
    "dir_save = \"im2latex/crop_formula_images/\"\n",
    "\n",
    "for filename in tqdm(os.listdir(dir)):\n",
    "\tf = os.path.join(dir, filename)\n",
    "\n",
    "\tif os.path.isfile(f):\n",
    "\t\timg = Image.open(f)\n",
    "\t\t# img.show()\n",
    "\n",
    "\t\timg = img.convert(\"RGBA\")\n",
    "\t\tpixdata = img.load()\n",
    "\t\twidth, height = img.size\n",
    "\n",
    "\t\t# find right\n",
    "\t\tfor x in range(width):\n",
    "\t\t\tfor y in range(height):\n",
    "\t\t\t\tif pixdata[x, y] == (0, 0, 0, 255):\n",
    "\t\t\t\t\tright = x\n",
    "\t\t\t\t\tbreak\n",
    "\t\t# find left\n",
    "\t\tfor x in reversed(range(width)):\n",
    "\t\t\tfor y in range(height):\n",
    "\t\t\t\tif pixdata[x, y] == (0, 0, 0, 255):\n",
    "\t\t\t\t\tleft = x\n",
    "\t\t\t\t\tbreak\n",
    "\t\t# find bottom\n",
    "\t\tfor y in range(height):\n",
    "\t\t\tfor x in range(width):\n",
    "\t\t\t\tif pixdata[x, y] == (0, 0, 0, 255):\n",
    "\t\t\t\t\tbottom = y\n",
    "\t\t\t\t\tbreak\n",
    "\t\t# find top\n",
    "\t\tfor y in reversed(range(height)):\n",
    "\t\t\tfor x in range(width):\n",
    "\t\t\t\tif pixdata[x, y] == (0, 0, 0, 255):\n",
    "\t\t\t\t\ttop = y\n",
    "\t\t\t\t\tbreak\n",
    "\t\t# print(left,top,right,bottom)\n",
    "\t\timg = img.crop((left-220, top-120, right+220, bottom+120))\n",
    "\n",
    "\t\timg.save(dir_save+filename, \"PNG\")"
   ]
  }
 ],
 "metadata": {
  "kernelspec": {
   "display_name": "Python 3.10.0 64-bit",
   "language": "python",
   "name": "python3"
  },
  "language_info": {
   "codemirror_mode": {
    "name": "ipython",
    "version": 3
   },
   "file_extension": ".py",
   "mimetype": "text/x-python",
   "name": "python",
   "nbconvert_exporter": "python",
   "pygments_lexer": "ipython3",
   "version": "3.10.0"
  },
  "orig_nbformat": 4,
  "vscode": {
   "interpreter": {
    "hash": "aee8b7b246df8f9039afb4144a1f6fd8d2ca17a180786b69acc140d282b71a49"
   }
  }
 },
 "nbformat": 4,
 "nbformat_minor": 2
}
