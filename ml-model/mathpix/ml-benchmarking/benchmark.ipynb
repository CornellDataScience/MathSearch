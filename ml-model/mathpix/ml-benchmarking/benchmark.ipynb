{
 "cells": [
  {
   "cell_type": "code",
   "execution_count": 3,
   "metadata": {},
   "outputs": [
    {
     "name": "stderr",
     "output_type": "stream",
     "text": [
      "/Library/Frameworks/Python.framework/Versions/3.12/lib/python3.12/site-packages/tqdm/auto.py:21: TqdmWarning: IProgress not found. Please update jupyter and ipywidgets. See https://ipywidgets.readthedocs.io/en/stable/user_install.html\n",
      "  from .autonotebook import tqdm as notebook_tqdm\n"
     ]
    }
   ],
   "source": [
    "import pandas as pd\n",
    "from datasets import load_dataset\n",
    "import matplotlib.pyplot as plt\n",
    "from zss import Node, distance\n",
    "import sympy as sp\n",
    "from sympy.parsing.latex import parse_latex"
   ]
  },
  {
   "cell_type": "code",
   "execution_count": 8,
   "metadata": {},
   "outputs": [
    {
     "data": {
      "image/png": "[encoded data removed]",
      "text/plain": [
       "<Figure size 640x480 with 1 Axes>"
      ]
     },
     "metadata": {},
     "output_type": "display_data"
    },
    {
     "name": "stdout",
     "output_type": "stream",
     "text": [
      "\\begin{align*}A_m = 1+m+(1-(-1)^m)\\kappa_1 + 2\\kappa_2.\\end{align*}\n"
     ]
    }
   ],
   "source": [
    "data = load_dataset(\"OleehyO/latex-formulas\", \"cleaned_formulas\", trust_remote_code=True)\n",
    "df = pd.DataFrame(data['train'][:20000])\n",
    "\n",
    "def show_image(image):\n",
    "    plt.imshow(image)\n",
    "    plt.axis('off')\n",
    "    plt.show()\n",
    "\n",
    "show_image(df['image'][0]) # <class 'PIL.JpegImagePlugin.JpegImageFile'>\n",
    "print(df['latex_formula'][0]) # string"
   ]
  },
  {
   "cell_type": "code",
   "execution_count": 10,
   "metadata": {},
   "outputs": [
    {
     "name": "stdout",
     "output_type": "stream",
     "text": [
      "Finished preprocess_latex\n"
     ]
    },
    {
     "name": "stderr",
     "output_type": "stream",
     "text": [
      "<>:2: SyntaxWarning: invalid escape sequence '\\m'\n",
      "<>:2: SyntaxWarning: invalid escape sequence '\\m'\n",
      "/var/folders/zj/kpptzq657ns6c10nk77xfh0w0000gp/T/ipykernel_86230/2606140733.py:2: SyntaxWarning: invalid escape sequence '\\m'\n",
      "  \"\"\"\n"
     ]
    }
   ],
   "source": [
    "def preprocess_latex(latex_src, rem):\n",
    "  \"\"\"\n",
    "  latex_src: string of LaTeX source code to pre-process\n",
    "  rem: string of formatting element which we want to remove from latex_src. includes opening curly brace. ex. \\mathrm{\n",
    "  \"\"\"\n",
    "  final_string = latex_src\n",
    "  format_index = latex_src.find(rem)\n",
    "  while format_index != -1:\n",
    "    # iterate through string until you find the right closing curly brace to remove\n",
    "    index = format_index + len(rem)\n",
    "    closing_brace = -1\n",
    "    num_opening = 0\n",
    "    while index < len(final_string):\n",
    "      if final_string[index:index+1] == \"{\":\n",
    "        num_opening += 1\n",
    "      elif final_string[index:index+1] == \"}\":\n",
    "        if num_opening == 0:\n",
    "          closing_brace = index\n",
    "          break\n",
    "        else:\n",
    "          num_opening -= 1\n",
    "      index += 1\n",
    "\n",
    "    # entering this if statement means something went wrong.\n",
    "    # nothing is removed in this case\n",
    "    if closing_brace == -1:\n",
    "      return final_string\n",
    "\n",
    "    final_string = final_string[:format_index]+final_string[format_index+len(rem):closing_brace]+final_string[closing_brace+1:]\n",
    "    format_index = final_string.find(rem)\n",
    "  \n",
    "  return final_string\n",
    "\n",
    "print(\"Finished preprocess_latex\")\n",
    "\n",
    "# Parses sympy expression into Zss tree\n",
    "def sympy_to_zss(expr):\n",
    "    if isinstance(expr, sp.Symbol) or isinstance(expr, sp.Number):\n",
    "        return Node(str(expr))\n",
    "    else:\n",
    "        full_class_str = str(expr.func)\n",
    "        class_name = full_class_str.split('.')[-1].rstrip(\"'>\")\n",
    "        node = Node(class_name)\n",
    "        for arg in expr.args:\n",
    "            child_node = sympy_to_zss(arg)\n",
    "            node.addkid(child_node)\n",
    "    return node\n",
    "\n",
    "\n",
    "# Input is string of LaTeX source code. Runs sympy parser and ZSS tree parser.\n",
    "# Returns parsed ZSS tree.\n",
    "def source_to_zss(latex_expr):\n",
    "  print('Started: ' + latex_expr)\n",
    "  sympy_expr = parse_latex('latex_expr')\n",
    "  print('SymPy')\n",
    "  zss_tree = sympy_to_zss(sympy_expr)\n",
    "  print('ZSS')\n",
    "  print(type(zss_tree))\n",
    "  print()\n",
    "  return zss_tree"
   ]
  }
 ],
 "metadata": {
  "kernelspec": {
   "display_name": "Python 3",
   "language": "python",
   "name": "python3"
  },
  "language_info": {
   "codemirror_mode": {
    "name": "ipython",
    "version": 3
   },
   "file_extension": ".py",
   "mimetype": "text/x-python",
   "name": "python",
   "nbconvert_exporter": "python",
   "pygments_lexer": "ipython3",
   "version": "3.12.2"
  }
 },
 "nbformat": 4,
 "nbformat_minor": 2
}
